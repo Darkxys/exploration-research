{
 "cells": [
  {
   "attachments": {},
   "cell_type": "markdown",
   "metadata": {},
   "source": [
    "# Automata inverse translator\n",
    "## Goal\n",
    "Create and train a Transformer to be able to build an automata from text.\n",
    "## Inputs and Output\n",
    "### Input\n",
    "A text (string) describing all transitions in a wanted automata\n",
    "### Output\n",
    "A dot_string representation of an automata\n",
    "## Steps to complete\n",
    "### 1. Create a function to generate a random automata\n",
    "I will now create a function that will generate an automata with the following alphabet : [\"a\", \"b\", \"\"]"
   ]
  },
  {
   "cell_type": "code",
   "execution_count": 45,
   "metadata": {},
   "outputs": [],
   "source": [
    "import random, math\n",
    "import numpy as np\n",
    "\n",
    "def generate_automata():\n",
    "    alphabet = [\"a\", \"b\", u\"\\u2205\"]\n",
    "    #nodes_quantity = random.randint(4,25)\n",
    "    nodes_quantity = 5\n",
    "    \n",
    "    def generate_random_transitions(node_index):\n",
    "        node_transitions = []\n",
    "        while all(el == node_index for el in node_transitions):\n",
    "            node_transitions = [random.randrange(nodes_quantity) for a in alphabet]\n",
    "            \n",
    "        return [(node_index, node_transitions[index], alphabet[index]) for index in range(len(node_transitions))]    \n",
    "        \n",
    "    automata = []\n",
    "    for node in range(nodes_quantity):\n",
    "        automata += generate_random_transitions(node)\n",
    "        \n",
    "    # Remove transitions\n",
    "    transitions_to_remove = 0.3\n",
    "    \n",
    "    for i in range(math.ceil(len(automata) * transitions_to_remove)):\n",
    "        np.random.shuffle(automata)\n",
    "        automata = np.delete(automata, 0, 0)\n",
    "    \n",
    "    return automata"
   ]
  },
  {
   "attachments": {},
   "cell_type": "markdown",
   "metadata": {},
   "source": [
    "### 2. Generate dot_string from generated automata"
   ]
  },
  {
   "cell_type": "code",
   "execution_count": 46,
   "metadata": {},
   "outputs": [],
   "source": [
    "def generate_dot_string(automata):\n",
    "    dot_str = \"digraph{\"\n",
    "    \n",
    "    for transition in automata:\n",
    "        dot_str += '%s->%s[label=\"%s\"]' % tuple(transition)\n",
    "    \n",
    "    dot_str += \"}\"\n",
    "    return dot_str"
   ]
  },
  {
   "attachments": {},
   "cell_type": "markdown",
   "metadata": {},
   "source": [
    "### 3. \"Translate\" transitions of the automata to english sentences"
   ]
  },
  {
   "cell_type": "code",
   "execution_count": 47,
   "metadata": {},
   "outputs": [
    {
     "name": "stdout",
     "output_type": "stream",
     "text": [
      "digraph {3->2 [label=\"b\"] 1->1 [label=\"∅\"] 3->3 [label=\"∅\"] 2->2 [label=\"∅\"] 0->4 [label=\"∅\"] 4->0 [label=\"a\"] 4->2 [label=\"∅\"] 1->0 [label=\"a\"] 2->0 [label=\"b\"] 1->2 [label=\"b\"] }\n",
      "When we are at state 3 and we get the value \"b\", then we go to state 2.\n",
      "When we are at state 1 and we get the value \"∅\", then we go to 1.\n",
      "When we are at state 3 and we get the value \"∅\", then we go to 3.\n",
      "When we are at state 2 and the value is \"∅\", then we go to state 2.\n",
      "When we are at state 0 and the value is \"∅\", then we go to 4.\n",
      "When we are at state 4 and we get the value \"a\", then we go to state 0.\n",
      "When we are at state 4 and we get the value \"∅\", then we go to state 2.\n",
      "When we are at state 1 and we get the value \"a\", then we go to state 0.\n",
      "When we are at state 2 and we get the value \"b\", then we go to 0.\n",
      "When we are at state 1 and we get the value \"b\", then we go to 2.\n",
      "\n"
     ]
    }
   ],
   "source": [
    "def translate_automata(automata):\n",
    "    translation = \"\"\n",
    "    \n",
    "    def get_template():\n",
    "        templates = [\n",
    "            'When we are at state {source} and we get the value \"{label}\", then we go to state {target}.',\n",
    "            'When we are at state {source} and we get the value \"{label}\", then we go to {target}.',\n",
    "            'When we are at state {source} and the value is \"{label}\", then we go to state {target}.',\n",
    "            'When we are at state {source} and the value is \"{label}\", then we go to {target}.',\n",
    "        ]\n",
    "        \n",
    "        return templates[random.randrange(len(templates))]\n",
    "    \n",
    "    for transition in automata:\n",
    "        translation += get_template().format(source = transition[0], target = transition[1], label = transition[2])\n",
    "        translation += \"\\n\"\n",
    "    \n",
    "    return translation"
   ]
  },
  {
   "attachments": {},
   "cell_type": "markdown",
   "metadata": {},
   "source": [
    "### 4. Train a transformer to build the dot_string from the sentences translated in #3\n",
    "#### 4.1 Create a function to generate the dataset"
   ]
  },
  {
   "cell_type": "code",
   "execution_count": null,
   "metadata": {},
   "outputs": [],
   "source": [
    "def generate_dataset():\n",
    "    dataset_size = 1000\n",
    "    dataset = []\n",
    "    \n",
    "    for i in range(dataset_size):\n",
    "        automata = generate_automata()\n",
    "        dataset.append([translate_automata(automata), generate_dot_string(automata)])\n",
    "        \n",
    "    return dataset"
   ]
  },
  {
   "attachments": {},
   "cell_type": "markdown",
   "metadata": {},
   "source": [
    "#### 4.2 Build the keras model"
   ]
  },
  {
   "cell_type": "code",
   "execution_count": null,
   "metadata": {},
   "outputs": [],
   "source": []
  }
 ],
 "metadata": {
  "kernelspec": {
   "display_name": "ml-env",
   "language": "python",
   "name": "python3"
  },
  "language_info": {
   "codemirror_mode": {
    "name": "ipython",
    "version": 3
   },
   "file_extension": ".py",
   "mimetype": "text/x-python",
   "name": "python",
   "nbconvert_exporter": "python",
   "pygments_lexer": "ipython3",
   "version": "3.9.16"
  },
  "orig_nbformat": 4,
  "vscode": {
   "interpreter": {
    "hash": "010d72da20a09e5bca4b1cca71edb635b8a8a147b32fbccaea84cbf59b145b1b"
   }
  }
 },
 "nbformat": 4,
 "nbformat_minor": 2
}
