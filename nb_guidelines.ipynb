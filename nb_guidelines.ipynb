{
 "cells": [
  {
   "cell_type": "code",
   "execution_count": null,
   "metadata": {},
   "outputs": [],
   "source": [
    "i = 5"
   ]
  },
  {
   "cell_type": "code",
   "execution_count": null,
   "metadata": {},
   "outputs": [],
   "source": [
    "test = i\n",
    "print(test)"
   ]
  },
  {
   "attachments": {},
   "cell_type": "markdown",
   "metadata": {
    "slideshow": {
     "slide_type": "slide"
    }
   },
   "source": [
    "# TEXT\n",
    "This is text!\n",
    "#### title little\n",
    "## title medium\n",
    "# title max big\n",
    "\n",
    "**bold text here**\n",
    "*italic text*\n",
    "***bold and italic***\n",
    "\n",
    "\\# not a title\n",
    "\\* not italic\n",
    "\n",
    "paragraph1\n",
    "\n",
    "paragraph2"
   ]
  },
  {
   "attachments": {},
   "cell_type": "markdown",
   "metadata": {
    "slideshow": {
     "slide_type": "slide"
    }
   },
   "source": [
    "# Listings\n",
    "\n",
    "## quotes\n",
    "> block quote text here\n",
    "\n",
    "> quote lvl1\n",
    ">> quote lvl2\n",
    ">>> quote lvl3\n",
    "\n",
    "## ordered list\n",
    "1. item1\n",
    "2. item2\n",
    "3. item3\n",
    "\n",
    "## unordered list\n",
    "- item1\n",
    "- item2\n",
    "- item3"
   ]
  },
  {
   "attachments": {},
   "cell_type": "markdown",
   "metadata": {},
   "source": [
    "\n",
    "# code!\n",
    "`one-liner code`\n",
    "```\n",
    "like discord \n",
    "multiple line code\n",
    "```\n",
    "\n",
    "### format code to a specific language\n",
    "```c++\n",
    "int i = 1982;\n",
    "std::cout << i << std::endl;\n",
    "```"
   ]
  },
  {
   "attachments": {},
   "cell_type": "markdown",
   "metadata": {},
   "source": [
    "# Table\n",
    "```\n",
    ":-: = centered\n",
    ":-  = left centered\n",
    "-:  = right centered\n",
    "```\n",
    "|header|header|header|\n",
    "|:-|:-:|-:|\n",
    "|2|3|4|\n",
    "|r|u|t|"
   ]
  }
 ],
 "metadata": {
  "kernelspec": {
   "display_name": "ml-env",
   "language": "python",
   "name": "python3"
  },
  "language_info": {
   "codemirror_mode": {
    "name": "ipython",
    "version": 3
   },
   "file_extension": ".py",
   "mimetype": "text/x-python",
   "name": "python",
   "nbconvert_exporter": "python",
   "pygments_lexer": "ipython3",
   "version": "3.9.16"
  },
  "orig_nbformat": 4,
  "vscode": {
   "interpreter": {
    "hash": "010d72da20a09e5bca4b1cca71edb635b8a8a147b32fbccaea84cbf59b145b1b"
   }
  }
 },
 "nbformat": 4,
 "nbformat_minor": 2
}
